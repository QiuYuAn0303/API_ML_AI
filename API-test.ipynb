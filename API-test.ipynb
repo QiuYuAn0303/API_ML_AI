{
 "cells": [
  {
   "cell_type": "code",
   "execution_count": 1,
   "metadata": {
    "collapsed": false
   },
   "outputs": [
    {
     "name": "stdout",
     "output_type": "stream",
     "text": [
      "b'{\"refresh_token\":\"25.efb589479d73836e93a824f5a3b89d21.315360000.1860112688.282335-14978031\",\"expires_in\":2592000,\"session_key\":\"9mzdA8yvsS49FSYFjpEjmoqdfdN0z9IDSLmWY22QhiIdAOQek8Js3OsFZ459n5PROrwyOQdKgrlqEIR3hAtXzbKmfQjS6Q==\",\"access_token\":\"24.8fba4e687f6e8a128b3f5fac7be2d1e5.2592000.1547344688.282335-14978031\",\"scope\":\"brain_poi_recognize public vis-classify_dishes vis-classify_car brain_all_scope vis-classify_animal vis-classify_plant brain_object_detect brain_realtime_logo brain_dish_detect brain_car_detect brain_animal_classify brain_plant_classify brain_advanced_general_classify wise_adapt lebo_resource_base lightservice_public hetu_basic lightcms_map_poi kaidian_kaidian ApsMisTest_Test\\\\u6743\\\\u9650 vis-classify_flower lpq_\\\\u5f00\\\\u653e cop_helloScope ApsMis_fangdi_permission smartapp_snsapi_base iop_autocar oauth_tp_app smartapp_smart_game_openapi oauth_sessionkey smartapp_swanid_verify\",\"session_secret\":\"315ddff9db925a27ff1ce9203da2f874\"}\\n'\n"
     ]
    }
   ],
   "source": [
    "import urllib,urllib.request, sys\n",
    "import ssl\n",
    "\n",
    "# client_id 为官网获取的AK， client_secret 为官网获取的SK\n",
    "host = 'https://aip.baidubce.com/oauth/2.0/token?grant_type=client_credentials&client_id=zrpsidse9R1T92Yl4SDvygaf&client_secret=KCt366xzcW0omN7CxFTmW6x9b2mKgEvD'\n",
    "request = urllib.request.Request(host)\n",
    "request.add_header('Content-Type', 'application/json; charset=UTF-8')\n",
    "response = urllib.request.urlopen(request)\n",
    "content = response.read()\n",
    "if (content):\n",
    "    print(content)"
   ]
  },
  {
   "cell_type": "code",
   "execution_count": 4,
   "metadata": {
    "collapsed": false
   },
   "outputs": [
    {
     "name": "stdout",
     "output_type": "stream",
     "text": [
      "b'{\"log_id\": 7332354691018232910, \"result_num\": 5, \"result\": [{\"calorie\": \"74\", \"has_calorie\": true, \"name\": \"\\xe7\\x89\\x9b\\xe8\\x82\\x89\\xe7\\xb2\\x89\", \"probability\": \"0.865872\"}, {\"calorie\": \"94\", \"has_calorie\": true, \"name\": \"\\xe6\\xb0\\xb4\\xe7\\x85\\xae\\xe7\\x89\\x9b\\xe8\\x82\\x89\", \"probability\": \"0.0249711\"}, {\"calorie\": \"74\", \"has_calorie\": true, \"name\": \"\\xe7\\x89\\x9b\\xe8\\x82\\x89\\xe6\\xb2\\xb3\\xe7\\xb2\\x89\", \"probability\": \"0.0133782\"}, {\"calorie\": \"237\", \"has_calorie\": true, \"name\": \"\\xe7\\x82\\x92\\xe7\\xb1\\xb3\\xe7\\xb2\\x89\", \"probability\": \"0.0101191\"}, {\"calorie\": \"206\", \"has_calorie\": true, \"name\": \"\\xe9\\xb8\\xad\\xe8\\xa1\\x80\\xe9\\x85\\xb8\\xe8\\xbe\\xa3\\xe7\\xb2\\x89\", \"probability\": \"0.00749556\"}]}'\n"
     ]
    }
   ],
   "source": [
    "# encoding:utf-8\n",
    "import base64\n",
    "import urllib\n",
    "import urllib.request #python3中关于urllib2的写法\n",
    "\n",
    "'''\n",
    "菜品识别\n",
    "'''\n",
    "\n",
    "request_url = \"https://aip.baidubce.com/rest/2.0/image-classify/v2/dish\"\n",
    "\n",
    "# 二进制方式打开图片文件\n",
    "f = open('F:/pictures/4.jpg', 'rb')\n",
    "img = base64.b64encode(f.read())\n",
    "\n",
    "params = {\"image\":img,\"top_num\":5}\n",
    "params = urllib.parse.urlencode(params).encode(encoding='UTF8') #添加.encode(encoding='UTF8')、parse\n",
    "\n",
    "access_token = '24.eac68379fd2ff97cc26c0d91cf873565.2592000.1547311306.282335-14978031'\n",
    "request_url = request_url + \"?access_token=\" + access_token\n",
    "request = urllib.request.Request(url=request_url, data=params)\n",
    "request.add_header('Content-Type', 'application/x-www-form-urlencoded')\n",
    "response = urllib.request.urlopen(request)\n",
    "content = response.read()\n",
    "if content:\n",
    "    print (content)"
   ]
  },
  {
   "cell_type": "code",
   "execution_count": 5,
   "metadata": {
    "collapsed": false
   },
   "outputs": [
    {
     "name": "stdout",
     "output_type": "stream",
     "text": [
      "b'{\"log_id\": 1291876232065098062, \"result_num\": 5, \"result\": [{\"calorie\": \"211\", \"has_calorie\": true, \"name\": \"\\xe7\\x83\\xa4\\xe9\\xb3\\x97\\xe9\\xb1\\xbc\", \"probability\": \"0.309679\"}, {\"calorie\": \"172\", \"has_calorie\": true, \"name\": \"\\xe9\\xb8\\xa1\\xe6\\x8e\\x92\\xe9\\xa5\\xad\", \"probability\": \"0.190127\"}, {\"calorie\": \"241\", \"has_calorie\": true, \"name\": \"\\xe7\\x89\\x9b\\xe8\\x82\\x89\\xe9\\xa5\\xad\", \"probability\": \"0.108022\"}, {\"calorie\": \"284\", \"has_calorie\": true, \"name\": \"\\xe9\\xb8\\xa1\\xe8\\x82\\x89\\xe9\\xa5\\xad\", \"probability\": \"0.0770971\"}, {\"calorie\": \"204\", \"has_calorie\": true, \"name\": \"\\xe5\\x8d\\xa4\\xe8\\x82\\x89\\xe9\\xa5\\xad\", \"probability\": \"0.0721971\"}]}'\n"
     ]
    }
   ],
   "source": [
    "# encoding:utf-8\n",
    "import base64\n",
    "import urllib\n",
    "import urllib.request #python3中关于urllib2的写法\n",
    "\n",
    "'''\n",
    "菜品识别\n",
    "'''\n",
    "\n",
    "request_url = \"https://aip.baidubce.com/rest/2.0/image-classify/v2/dish\"\n",
    "\n",
    "# 二进制方式打开图片文件\n",
    "f = open('F:/大三/API/3.jpg', 'rb')\n",
    "img = base64.b64encode(f.read())\n",
    "\n",
    "params = {\"image\":img,\"top_num\":5}\n",
    "params = urllib.parse.urlencode(params).encode(encoding='UTF8') #添加.encode(encoding='UTF8')、parse\n",
    "\n",
    "access_token = '24.eac68379fd2ff97cc26c0d91cf873565.2592000.1547311306.282335-14978031'\n",
    "request_url = request_url + \"?access_token=\" + access_token\n",
    "request = urllib.request.Request(url=request_url, data=params)\n",
    "request.add_header('Content-Type', 'application/x-www-form-urlencoded')\n",
    "response = urllib.request.urlopen(request)\n",
    "content = response.read()\n",
    "if content:\n",
    "    print (content)"
   ]
  },
  {
   "cell_type": "code",
   "execution_count": null,
   "metadata": {
    "collapsed": true
   },
   "outputs": [],
   "source": []
  }
 ],
 "metadata": {
  "kernelspec": {
   "display_name": "Python 3",
   "language": "python",
   "name": "python3"
  },
  "language_info": {
   "codemirror_mode": {
    "name": "ipython",
    "version": 3
   },
   "file_extension": ".py",
   "mimetype": "text/x-python",
   "name": "python",
   "nbconvert_exporter": "python",
   "pygments_lexer": "ipython3",
   "version": "3.6.0"
  }
 },
 "nbformat": 4,
 "nbformat_minor": 2
}
